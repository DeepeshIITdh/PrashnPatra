{
 "cells": [
  {
   "cell_type": "markdown",
   "metadata": {
    "id": "r2vGQJ3nLXcs"
   },
   "source": [
    "### Install Required Packages:"
   ]
  },
  {
   "cell_type": "code",
   "execution_count": null,
   "metadata": {
    "colab": {
     "base_uri": "https://localhost:8080/"
    },
    "id": "ZeXY69h-LW0J",
    "outputId": "7ca3a277-81b1-4933-ff49-b94c794e08c0"
   },
   "outputs": [],
   "source": [
    "# !pip install -q trl"
   ]
  },
  {
   "cell_type": "markdown",
   "metadata": {
    "id": "TJdIU9SPyv65"
   },
   "source": [
    "### Import Libraries:"
   ]
  },
  {
   "cell_type": "code",
   "execution_count": null,
   "metadata": {
    "id": "24rOEqsUy7AN"
   },
   "outputs": [],
   "source": [
    "from transformers import AutoModelForCausalLM, AutoTokenizer, TrainingArguments, pipeline, logging\n",
    "from trl import SFTTrainer\n",
    "from peft import LoraConfig, PeftModel, TaskType\n",
    "import torch\n",
    "import json\n",
    "from datasets import Dataset\n",
    "\n",
    "import warnings\n",
    "warnings.filterwarnings('ignore')\n",
    "logging.set_verbosity(logging.CRITICAL)"
   ]
  },
  {
   "cell_type": "markdown",
   "metadata": {
    "id": "0Hps1ZEPz5mW"
   },
   "source": [
    "### Load the Dataset:"
   ]
  },
  {
   "cell_type": "code",
   "execution_count": null,
   "metadata": {
    "id": "3Q20FqblWWZn"
   },
   "outputs": [],
   "source": [
    "# Load dataset\n",
    "with open(\"/content/custom_quiz_dataset.jsonl\", \"r\") as f:\n",
    "    data = [json.loads(line) for line in f if line.strip()]\n",
    "\n",
    "# Convert to decoder-only format: input + output combined as one sequence\n",
    "for d in data:\n",
    "    output = d[\"output\"]\n",
    "    d[\"text\"] = f\"{d['input']}\\nQuestion: {output['Question']}\\nAnswer: {output['Answer']}\"\n",
    "\n",
    "dataset = Dataset.from_list(data)"
   ]
  },
  {
   "cell_type": "code",
   "execution_count": null,
   "metadata": {
    "colab": {
     "base_uri": "https://localhost:8080/"
    },
    "id": "T4B2qA6HediY",
    "outputId": "7d0ecbde-3499-42f6-8889-4077d9e82a15"
   },
   "outputs": [],
   "source": [
    "dataset"
   ]
  },
  {
   "cell_type": "markdown",
   "metadata": {
    "id": "KIwvxL5CzQes"
   },
   "source": [
    "### Load Model and Tokenizer:"
   ]
  },
  {
   "cell_type": "code",
   "execution_count": null,
   "metadata": {
    "id": "v7wop4dEediZ"
   },
   "outputs": [],
   "source": [
    "model_name = \"TinyLlama/TinyLlama-1.1B-Chat-v1.0\"\n",
    "\n",
    "# tokenizer\n",
    "tokenizer = AutoTokenizer.from_pretrained(model_name, trust_remote_code=True)\n",
    "tokenizer.pad_token = tokenizer.eos_token\n",
    "tokenizer.padding_side = \"right\"\n",
    "\n",
    "# base_model\n",
    "base_model = AutoModelForCausalLM.from_pretrained(model_name, device_map=\"auto\", torch_dtype=torch.float16)"
   ]
  },
  {
   "cell_type": "code",
   "execution_count": null,
   "metadata": {
    "colab": {
     "base_uri": "https://localhost:8080/"
    },
    "id": "oZCOF_K4Q0jr",
    "outputId": "1970d2b1-c4e5-424b-e911-08df23ed5706"
   },
   "outputs": [],
   "source": [
    "base_model"
   ]
  },
  {
   "cell_type": "markdown",
   "metadata": {
    "id": "-FdoV3N-p-et"
   },
   "source": [
    "### Baseline Generation:"
   ]
  },
  {
   "cell_type": "code",
   "execution_count": null,
   "metadata": {
    "colab": {
     "base_uri": "https://localhost:8080/"
    },
    "id": "Mrbhjbc_p9vm",
    "outputId": "6d591e01-0b3b-433d-faec-9bfa4c726487"
   },
   "outputs": [],
   "source": [
    "pipe = pipeline(\"text-generation\", model=base_model, tokenizer=tokenizer, max_length=80)\n",
    "\n",
    "# Define the prompt\n",
    "ques_type = \"multiple choice question\"\n",
    "topic = \"Physics\"\n",
    "prompt = f\"Generate a {ques_type} on {topic}\"\n",
    "\n",
    "# Generate and print result\n",
    "result = pipe(prompt)\n",
    "print(result[0]['generated_text'])"
   ]
  },
  {
   "cell_type": "markdown",
   "metadata": {
    "id": "Ycj86LNzzk1g"
   },
   "source": [
    "### Configure LoRA:"
   ]
  },
  {
   "cell_type": "code",
   "execution_count": null,
   "metadata": {
    "id": "q0SaKRcxzkJG"
   },
   "outputs": [],
   "source": [
    "lora_config = LoraConfig(\n",
    "    r=64,\n",
    "    lora_alpha=16,\n",
    "    target_modules=[\"q_proj\", \"v_proj\"],  # Adjust based on model architecture\n",
    "    lora_dropout=0.1,\n",
    "    bias=\"none\",\n",
    "    task_type=TaskType.CAUSAL_LM\n",
    ")"
   ]
  },
  {
   "cell_type": "markdown",
   "metadata": {
    "id": "aTnzsg17W3Wn"
   },
   "source": [
    "### Data Preprocessing:"
   ]
  },
  {
   "cell_type": "code",
   "execution_count": null,
   "metadata": {
    "id": "hau630ObrksI"
   },
   "outputs": [],
   "source": [
    "def preprocess(sample):\n",
    "  return sample['text']"
   ]
  },
  {
   "cell_type": "markdown",
   "metadata": {
    "id": "BBynmGivAysC"
   },
   "source": [
    "###  Training Configuration:"
   ]
  },
  {
   "cell_type": "code",
   "execution_count": null,
   "metadata": {
    "id": "cq9Y8HAiA6YR"
   },
   "outputs": [],
   "source": [
    "import os\n",
    "os.environ[\"WANDB_DISABLED\"] = \"True\""
   ]
  },
  {
   "cell_type": "code",
   "execution_count": null,
   "metadata": {
    "id": "POoSu23PD96e"
   },
   "outputs": [],
   "source": [
    "# Training Arguments\n",
    "training_args = TrainingArguments(\n",
    "    output_dir=\"./tinyllama-quiz\",\n",
    "    per_device_train_batch_size=2,\n",
    "    gradient_accumulation_steps=4,\n",
    "    num_train_epochs=3,\n",
    "    learning_rate=5e-5,\n",
    "    logging_steps=50,\n",
    "    save_strategy=\"epoch\",\n",
    "    report_to=\"none\",\n",
    "    fp16=True,\n",
    ")"
   ]
  },
  {
   "cell_type": "markdown",
   "metadata": {
    "id": "onkGUA-LZLki"
   },
   "source": [
    "### Initialize Trainer:"
   ]
  },
  {
   "cell_type": "code",
   "execution_count": null,
   "metadata": {
    "colab": {
     "base_uri": "https://localhost:8080/",
     "height": 182,
     "referenced_widgets": [
      "177f820262f3429fa2e8f15ec82efa56",
      "bc6c15ff5a0440cfb75e46b83b978c71",
      "f0e7d42e426a4bdab9bd731c1ced47f6",
      "460a4cf3045249f1b3e7e41b0550ffc8",
      "fc99f77d9f514bbebad1af5a2d232156",
      "c5cbe8a3e4df4028b957af3e1e34c849",
      "d70dda7719c94dedb18a68426738a8a6",
      "10835024c98542a78784742e1c872c25",
      "def16e8d272b4ad7933a339a04bab778",
      "cedfb3b2e9684e1bbea0bb651d32b2c3",
      "7be5e9e89a054be59c9456d5d331da09",
      "6eceb7493c254d74a35f67a330121476",
      "17a64056fbaa4eca9508eaed5223e67e",
      "01104d0bc6be46a7b660278dd00462cc",
      "89f71e3ca8d041e4923ddd844cfaabbc",
      "9855eef0a8bb4ecd9a6cee62a371b24f",
      "6ffdbc1bfe7c464eb1863405f20b808c",
      "58b7ab3ecbfc4c46ae4b47c184a8de43",
      "f4dbbd1e50d24ee9b947bb7e537df02c",
      "42d2f32312504dcfa717220bad3d34e7",
      "bbd165ef24804ccc925ec7abaa613ee4",
      "5f032bc581a6455b84d4cacd990fc072",
      "7096eb4c374846368418b50938a9b411",
      "1b103761dca94a7e94d42c739f683aa3",
      "1bd9aade4dba4f06981039e4012eb7b1",
      "c071259d504b43d297e020dd76e59a08",
      "6c05b9834ef14ef8a8475ba2f40841a1",
      "6668c7e3d02d493e917fab6e24294e7f",
      "45cff615713945e1bdba983a3e40a07e",
      "4fb11fc656924309961af0f98b301cea",
      "c3f6a07369fc459aa33407c41aad79b7",
      "11fb07764fa54b0d81c0bf3d67662ce2",
      "2238ee03b090493d9b701267a6d93ca7",
      "8bc34690ed8f4c7cb8845f654a2fbaa7",
      "5eec995ba92843849bccffe6b96cea71",
      "9276e24e51a645739916408b1b4f37fa",
      "14f8ca68fc174d339eb9a871dd6b6c37",
      "e534f77e93c0495db177f102a45b2308",
      "997252e414e849039da60c226d282dcc",
      "284cd86a718f49cc9904736a8b7d6cf1",
      "501c2488de4e4131b16bfd956c899967",
      "4a3ec8a212da48b5a38aacc540da55bf",
      "940df5815c81449891be6812784ad629",
      "8fbf2366bbf64b36ba173a29d4711d51"
     ]
    },
    "id": "dLmKnmzLWzpJ",
    "outputId": "bd408ae8-3f93-4b79-cdc9-fc27acb27263"
   },
   "outputs": [],
   "source": [
    "# Trainer\n",
    "trainer = SFTTrainer(\n",
    "    model = base_model,\n",
    "    train_dataset = dataset,\n",
    "    peft_config = lora_config,\n",
    "    formatting_func = preprocess,\n",
    "    args = training_args,\n",
    ")"
   ]
  },
  {
   "cell_type": "markdown",
   "metadata": {
    "id": "KTkoICZHBlSg"
   },
   "source": [
    "### Start Training:"
   ]
  },
  {
   "cell_type": "code",
   "execution_count": null,
   "metadata": {
    "colab": {
     "base_uri": "https://localhost:8080/",
     "height": 652
    },
    "id": "zoHtNVEwzAbo",
    "outputId": "726799e3-6d14-4c0e-eb56-c3b4ae4faa1f"
   },
   "outputs": [],
   "source": [
    "trainer.train()"
   ]
  },
  {
   "cell_type": "markdown",
   "metadata": {
    "id": "xi6oesfyN7gq"
   },
   "source": [
    "### Save the Fine-Tuned Model"
   ]
  },
  {
   "cell_type": "code",
   "execution_count": null,
   "metadata": {
    "colab": {
     "base_uri": "https://localhost:8080/"
    },
    "id": "XMHyrPEjedif",
    "outputId": "5012936e-bbf3-492c-ecfc-8a7258775975"
   },
   "outputs": [],
   "source": [
    "new_model_name = \"tinyllama_finetuned_lora\"\n",
    "\n",
    "trainer.model.save_pretrained(new_model_name)\n",
    "tokenizer.save_pretrained(new_model_name)"
   ]
  },
  {
   "cell_type": "code",
   "execution_count": null,
   "metadata": {
    "id": "NebJ9IGoOJFv"
   },
   "outputs": [],
   "source": [
    "pipe = pipeline(task=\"text-generation\", model=new_model_name, tokenizer=new_model_name, max_length=80)"
   ]
  },
  {
   "cell_type": "markdown",
   "metadata": {
    "id": "djfPTwEEOVjR"
   },
   "source": [
    "### Inference on the test prompt"
   ]
  },
  {
   "cell_type": "code",
   "execution_count": null,
   "metadata": {
    "colab": {
     "base_uri": "https://localhost:8080/"
    },
    "id": "LFJ9iaCBiQb8",
    "outputId": "e24c52df-1a13-4e6d-c5fc-1a9a122ec6bc"
   },
   "outputs": [],
   "source": [
    "ques_type = \"fill in the blanks\"\n",
    "topic = \"Science\"\n",
    "\n",
    "prompt = f\"Generate a {ques_type} on {topic}\"\n",
    "result = pipe(prompt)\n",
    "\n",
    "# print(result)\n",
    "print(result[0]['generated_text'])"
   ]
  },
  {
   "cell_type": "code",
   "execution_count": null,
   "metadata": {
    "colab": {
     "base_uri": "https://localhost:8080/"
    },
    "id": "I_ZzDCIRoTFl",
    "outputId": "91318812-8ddb-467a-8a12-58edb591fb11"
   },
   "outputs": [],
   "source": [
    "prompt = \"Generate a multiple choice question on Physics\"\n",
    "result = pipe(prompt)\n",
    "print(result[0]['generated_text'])"
   ]
  },
  {
   "cell_type": "code",
   "execution_count": null,
   "metadata": {
    "id": "N3UkAHpoogpl"
   },
   "outputs": [],
   "source": []
  }
 ],
 "metadata": {
  "accelerator": "GPU",
  "colab": {
   "collapsed_sections": [
    "aTnzsg17W3Wn",
    "DuKLFP8hXLLq",
    "BBynmGivAysC",
    "onkGUA-LZLki",
    "GMKG-6rTBdDF",
    "KTkoICZHBlSg",
    "X4-P_6Q_CVWZ"
   ],
   "gpuType": "T4",
   "provenance": []
  },
  "kaggle": {
   "accelerator": "nvidiaTeslaT4",
   "dataSources": [
    {
     "datasetId": 7782108,
     "sourceId": 12344410,
     "sourceType": "datasetVersion"
    },
    {
     "datasetId": 7785926,
     "sourceId": 12350132,
     "sourceType": "datasetVersion"
    }
   ],
   "dockerImageVersionId": 31041,
   "isGpuEnabled": true,
   "isInternetEnabled": true,
   "language": "python",
   "sourceType": "notebook"
  },
  "kernelspec": {
   "display_name": "PrashnPatra",
   "language": "python",
   "name": "python3"
  },
  "language_info": {
   "codemirror_mode": {
    "name": "ipython",
    "version": 3
   },
   "file_extension": ".py",
   "mimetype": "text/x-python",
   "name": "python",
   "nbconvert_exporter": "python",
   "pygments_lexer": "ipython3",
   "version": "3.10.7"
  }
 },
 "nbformat": 4,
 "nbformat_minor": 0
}
