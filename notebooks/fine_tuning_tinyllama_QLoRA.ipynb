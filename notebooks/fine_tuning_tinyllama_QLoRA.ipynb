{
 "cells": [
  {
   "cell_type": "markdown",
   "metadata": {
    "id": "qt1oQQIxnFcL"
   },
   "source": [
    "### Install Required Packages"
   ]
  },
  {
   "cell_type": "code",
   "execution_count": null,
   "metadata": {
    "colab": {
     "base_uri": "https://localhost:8080/"
    },
    "id": "3bnNf5QJm-Gm",
    "outputId": "614fc087-5eac-4bba-c1e5-afa05a5d5730"
   },
   "outputs": [],
   "source": [
    "# !pip install -q bitsandbytes trl"
   ]
  },
  {
   "cell_type": "code",
   "execution_count": null,
   "metadata": {
    "id": "Mhsyrpwp26DT"
   },
   "outputs": [],
   "source": [
    "from transformers import AutoModelForCausalLM, AutoTokenizer, BitsAndBytesConfig, TrainingArguments, pipeline, logging\n",
    "from trl import SFTTrainer\n",
    "from peft import LoraConfig, PeftModel, TaskType\n",
    "import torch\n",
    "import json\n",
    "from datasets import Dataset\n",
    "\n",
    "import warnings\n",
    "warnings.filterwarnings('ignore')\n",
    "logging.set_verbosity(logging.CRITICAL)"
   ]
  },
  {
   "cell_type": "markdown",
   "metadata": {
    "id": "MvEPLanvnKCu"
   },
   "source": [
    "### Load the model with QLoRA Configuration"
   ]
  },
  {
   "cell_type": "code",
   "execution_count": null,
   "metadata": {
    "id": "ixMiPe9opBAA"
   },
   "outputs": [],
   "source": [
    "bnb_config = BitsAndBytesConfig(\n",
    "    load_in_8bit=True,         # Quantize to 8-bit\n",
    "    llm_int8_threshold=6.0,\n",
    "    llm_int8_has_fp16_weight=False,\n",
    ")"
   ]
  },
  {
   "cell_type": "code",
   "execution_count": null,
   "metadata": {
    "colab": {
     "base_uri": "https://localhost:8080/",
     "height": 241,
     "referenced_widgets": [
      "1070575c5c634060ae64d2d81fd92e93",
      "7c5a31243717447c87326366e0a01008",
      "8e932cac63504a508709e852bb075163",
      "a99f9f434f444873a9187b0d99988f02",
      "fe902fb4a3a54a859675a3d1333e2f62",
      "0c7aa5713a1c43d2af0f0241ea441890",
      "b92137aab7884a92b3ffd47cd4976615",
      "1395fdf670c74c7f8e8c90a4fd003fdd",
      "02b041516002492097fccd324dd458a0",
      "a1c7d209a94040f29a9af33ad1881cda",
      "96553f485da94fb69fe724fa4bcdb733",
      "318c90da9519406cbd60f89b6d8af9c4",
      "bb12c5f6fa1d4db8a25418ecfb35b870",
      "30cda092c06c41b19c6443d61a21e726",
      "48455c0718e845d49d4fa8b72a98e56f",
      "0319da621ba542179fd397a6b1e0e42d",
      "5ee250c80a5748a38705ae7a4aa3d89f",
      "6c6940a73055492c8182a1a904a9cec7",
      "647cfb92a2d84e32a98f2ef930170f68",
      "785eec1fc70a449faefd5bb533f4705f",
      "381c17b11bf543feb8e4433ff1246fa8",
      "a6925019ebcd4a5b982f9ac0f832855c",
      "f6aecc051b414b6cb652ca86cc01c676",
      "2b7c1f65ab924f0880a80ec10f32f742",
      "aae44f8d975b4d62a925288f90b7ccc5",
      "909f8e0565ec496ba4ec8700d7e535a5",
      "da7a55404bdc4ad6929e2747954bf678",
      "285507c1bc744c098a81ee0a4a485ba7",
      "715a91abe24a4a388573bc6a0376b1d1",
      "d3cc3a523cc2475f99d4e0ef2a9e0269",
      "461b94b4462d448fbd2b94393b368f54",
      "64da192789b847768eb9766d066012d6",
      "8965be3d91c44a33bf3977f3a841a521",
      "b4feabc0f7b842f09186d21b98050389",
      "1cc97e05ae5c40f9883b9e4486e8ba14",
      "e07bba8257b143c1852b3a346dfb21d4",
      "5183494fdebe4cc5b5330afa1f555a3a",
      "15e211a425cf4d22978a9029a00e2c49",
      "dd1255ca0f264707a95afd8379b8414f",
      "b09d12e6701f4cc1b124a78663dfece1",
      "ee315b3338914bcc9c605465e2f298ca",
      "ab78a89a8d264e15a75260eb8d25cb7b",
      "2c4112d6812a40c4a95ef94f8cdcef8c",
      "6092f73a5b0d442fb32901d89d9b36e8",
      "8064648f22f140c5a12ee606e522e7c9",
      "29a73f52a84147daa914c2fa0def3238",
      "67962e52cda5430d9e8aa3a05eaa7d51",
      "5e34023df884449c91ae7a5ffe420ebc",
      "7624f794ae2145f1a0bcfa82b1980883",
      "125a986e371542ff807a67add5632665",
      "71f78f62efb14bdc92d3595986e4ea32",
      "e98464fcdbb545f7ae44e38cb4bde52c",
      "44a6ecfaefba49a2a5c2d8195ffd0b32",
      "cf123732479e44efad8469427184ef9f",
      "f0f06a76405c46f18f6f2b6e807bc469",
      "98a4a31cd8944f3e8127b1ed6c59fea6",
      "9298efda72f24a34879ac730d76f7b20",
      "247fd66fb6bd44328ee49aaa92a14320",
      "567d613a468d494190caef102cfa009d",
      "18c778baf4ff46278fcb1dc9e6c78982",
      "19e4ecdcb8ef445bb13bce27961394d0",
      "ec38964161c04adca8c58569f8f946f1",
      "34cbed0505084236a3302067029881e2",
      "e3cbde7ace554d238496807ce1f3a52e",
      "3cdba6dfcf4341c79c650363d85ba960",
      "31deb2c6540242da8dc840b50fb493d8",
      "aa9840a2b2bf43bfaf7c09cce777a3c8",
      "11bc1dde74944547ad348679df32a2a1",
      "c748c777da474de5864fb6c86de327b1",
      "cbbae54b74294d8781996317729835e8",
      "7e8dd2aada2546b5a21e36ee8e6dc6ea",
      "0ba4bc5939314f13a3c0a75452b9799f",
      "1bd03a221f7e4ae8a2a208d768a71a59",
      "961c2914f9f8406393e2f0f05c650483",
      "157995b476fd4ee0926e0f0b5764507f",
      "c09635a4509349dd8c1512a3539ac396",
      "6f5291f3f16949dd81abf4c13020db96"
     ]
    },
    "id": "tA1n9NokmHhX",
    "outputId": "61d4f389-eeff-43cf-f7fa-a3a846d05ec9"
   },
   "outputs": [],
   "source": [
    "model_name = \"TinyLlama/TinyLlama-1.1B-Chat-v1.0\"\n",
    "\n",
    "base_model = AutoModelForCausalLM.from_pretrained(\n",
    "    model_name,\n",
    "    quantization_config=bnb_config,\n",
    "    device_map={\"\": 0}   # when there is atleast one GPU\n",
    ")\n",
    "\n",
    "# Only While Fine_Tuning and Training, Not on Inferencing\n",
    "base_model.config.use_cache = False\n",
    "base_model.config.pretraining_tp = 1\n",
    "\n",
    "# Load the tokenizer\n",
    "tokenizer = AutoTokenizer.from_pretrained(model_name, trust_remote_code=True)\n",
    "tokenizer.pad_token = tokenizer.eos_token\n",
    "tokenizer.padding_side = \"right\""
   ]
  },
  {
   "cell_type": "markdown",
   "metadata": {
    "id": "eOw_gKPHxe5w"
   },
   "source": [
    "### Baseline Geneartion"
   ]
  },
  {
   "cell_type": "code",
   "execution_count": null,
   "metadata": {
    "colab": {
     "base_uri": "https://localhost:8080/"
    },
    "id": "XpHzQOzCxeOs",
    "outputId": "1913bcd8-71bc-45a4-efa3-7c661e3cc1cf"
   },
   "outputs": [],
   "source": [
    "pipe = pipeline(\"text-generation\", model=base_model, tokenizer=tokenizer, max_length=80)\n",
    "\n",
    "# Define the prompt\n",
    "ques_type = \"multiple choice question\"\n",
    "topic = \"Physics\"\n",
    "prompt = f\"Generate a {ques_type} on {topic}\"\n",
    "\n",
    "# Generate and print result\n",
    "result = pipe(prompt)\n",
    "print(result[0]['generated_text'])"
   ]
  },
  {
   "cell_type": "markdown",
   "metadata": {
    "id": "5O3QVLTY2wfX"
   },
   "source": [
    "### Load the Dataset"
   ]
  },
  {
   "cell_type": "code",
   "execution_count": null,
   "metadata": {
    "id": "StgQznLKq1MJ"
   },
   "outputs": [],
   "source": [
    "# Load dataset\n",
    "with open(\"/content/custom_quiz_dataset.jsonl\", \"r\") as f:\n",
    "    data = [json.loads(line) for line in f if line.strip()]\n",
    "\n",
    "# Convert to decoder-only format: input + output combined as one sequence\n",
    "for d in data:\n",
    "    output = d[\"output\"]\n",
    "    d[\"text\"] = f\"{d['input']}\\nQuestion: {output['Question']}\\nAnswer: {output['Answer']}\"\n",
    "\n",
    "dataset = Dataset.from_list(data)"
   ]
  },
  {
   "cell_type": "code",
   "execution_count": null,
   "metadata": {
    "colab": {
     "base_uri": "https://localhost:8080/"
    },
    "id": "rVO4xKOf3Xvv",
    "outputId": "44490239-20cc-4a19-b75d-e9414af0aadd"
   },
   "outputs": [],
   "source": [
    "dataset"
   ]
  },
  {
   "cell_type": "code",
   "execution_count": null,
   "metadata": {
    "id": "1MqMop519Qdi"
   },
   "outputs": [],
   "source": [
    "def preprocess(sample):\n",
    "  return sample['text']"
   ]
  },
  {
   "cell_type": "markdown",
   "metadata": {
    "id": "VPIZW4HF3Zrv"
   },
   "source": [
    "### LoRA Configuration"
   ]
  },
  {
   "cell_type": "code",
   "execution_count": null,
   "metadata": {
    "id": "zdK-IJpk3x87"
   },
   "outputs": [],
   "source": [
    "lora_config = LoraConfig(\n",
    "    r=64,\n",
    "    lora_alpha=16,\n",
    "    target_modules=[\"q_proj\", \"v_proj\"],  # Adjust based on model architecture\n",
    "    lora_dropout=0.1,\n",
    "    bias=\"none\",\n",
    "    task_type=TaskType.CAUSAL_LM\n",
    ")"
   ]
  },
  {
   "cell_type": "markdown",
   "metadata": {
    "id": "RuLwGZoI8CME"
   },
   "source": [
    "### WandB Login and Tracking"
   ]
  },
  {
   "cell_type": "code",
   "execution_count": null,
   "metadata": {
    "id": "B5ny074j8AhK"
   },
   "outputs": [],
   "source": [
    "# import wandb\n",
    "# wandb.login()"
   ]
  },
  {
   "cell_type": "code",
   "execution_count": null,
   "metadata": {
    "id": "pgKQ_27t8VRC"
   },
   "outputs": [],
   "source": [
    "import os\n",
    "os.environ[\"WANDB_PROJECT\"] = \"my-quiz-generator\"\n",
    "os.environ[\"WANDB_LOG_MODEL\"] = \"checkpoint\""
   ]
  },
  {
   "cell_type": "markdown",
   "metadata": {
    "id": "OWQeSDFJ4BMZ"
   },
   "source": [
    "### Training Arguments"
   ]
  },
  {
   "cell_type": "code",
   "execution_count": null,
   "metadata": {
    "id": "Uib0aOA84EU9"
   },
   "outputs": [],
   "source": [
    "training_arguments = TrainingArguments(\n",
    "    output_dir=\"./results\",\n",
    "    num_train_epochs=1,\n",
    "    per_device_train_batch_size=2,\n",
    "    gradient_accumulation_steps=4,\n",
    "    optim=\"paged_adamw_32bit\",\n",
    "    save_steps=25,\n",
    "    logging_steps=25,\n",
    "    learning_rate=2e-4,\n",
    "    weight_decay=0.001,\n",
    "    fp16=False,\n",
    "    bf16=False,\n",
    "    max_grad_norm=0.3,\n",
    "    max_steps=-1,\n",
    "    warmup_ratio=0.03,\n",
    "    group_by_length=True,\n",
    "    lr_scheduler_type=\"constant\",\n",
    "    report_to=\"wandb\"\n",
    ")"
   ]
  },
  {
   "cell_type": "markdown",
   "metadata": {
    "id": "SVhpm4jN4KOV"
   },
   "source": [
    "### SFTTrainer"
   ]
  },
  {
   "cell_type": "code",
   "execution_count": null,
   "metadata": {
    "colab": {
     "base_uri": "https://localhost:8080/",
     "height": 145,
     "referenced_widgets": [
      "e1123d032d984aa7954006050b124da9",
      "d752a3a6f1b340fa81cf0304e612c5a2",
      "2c66048e52c74ed193a37a0bbe6af5e3",
      "40f3e3a367bf4b13b27ac6396fc39f75",
      "7182eb13f66b44be916d2fd7dfa26a02",
      "9124e415a2c64ede9fd7e56166c177a2",
      "bce90480812644b49522ada5c1b96101",
      "6bae77fcb68944fb9421c706a1998940",
      "589f09dcf7224cb8817ccbe4d80a3d01",
      "dc09141c07604400b4a438978fd7b3a8",
      "9550a8b461af4c47a9e73cb3e0a5e999",
      "40c6ab905eb749b987420ca401a60ed4",
      "313abe5b82cc4e49b2232ee39bd87b3d",
      "017534ae8ed24c7f85c59e6a2daff2bf",
      "84c962f70953448aab67063d5a98255b",
      "586b25566bf24b8bacc11dd244db18fb",
      "b4e1137fbe364e849fe5a9d98e8e3699",
      "04ecf4404d984bc9ab7dd59ab95f7779",
      "4f6088da41a94798aa815b58a3a1e4d4",
      "9d9530c0d9fd4fcfa42085ebab197ff8",
      "12a2c0883d664cf4bf74a8b032429797",
      "d476e66906c5403d928f466a6ba26da1",
      "a708720060b349c2816317ce4ea95e8a",
      "525cc8a7d7de4541ac635f2361f640eb",
      "2a94148fff4445b6a68c16e41361dd89",
      "c4722f57108b44cc86d00900259ba28d",
      "fd15e25a116742afae385688b17b7462",
      "856701382c824853bd4567b31894b878",
      "c3377ce2cf964b2ebfe4227cea883df8",
      "e1c42665e9ef4a669a64e6bd72206fa2",
      "5806ba7b0f2449afa19fea5e8a1b13ba",
      "4e50a8f0ca26416facf851ec7b1e9678",
      "cf5cd8f9671747598ccf07c3b7c44fd2",
      "f5d3c8ed1b704b969e575d32cf376c44",
      "9b1031a179ed47f69a92c99a672b7744",
      "a46f44f93b7f41ecac3ca94b55d307ff",
      "40ddf3ad93b7494a899ed97685f774b8",
      "57e8786c049a4504b9879625f8d74dca",
      "6936ac8b32664f838a49bca9f54fb1e3",
      "3698d844e3844753ad2f63c9a795b084",
      "f02e95ce006d43999bacdccda543385c",
      "174bd6472e7944fb8d19e59096b7e6ae",
      "3186f74fbec74e798b8c1f1c3cb11059",
      "06c83994e22e4b9ca44220c778b508f9"
     ]
    },
    "id": "QDXpcI7s4NSi",
    "outputId": "c98c6156-20d9-4ca6-9d19-0fe4a726cbb0"
   },
   "outputs": [],
   "source": [
    "trainer = SFTTrainer(\n",
    "    model = base_model,\n",
    "    train_dataset = dataset,\n",
    "    peft_config = lora_config,\n",
    "    formatting_func = preprocess,\n",
    "    args = training_arguments,\n",
    ")"
   ]
  },
  {
   "cell_type": "markdown",
   "metadata": {
    "id": "FZNDLlpx4Zg8"
   },
   "source": [
    "### Initiate Fine-Tuning"
   ]
  },
  {
   "cell_type": "code",
   "execution_count": null,
   "metadata": {
    "colab": {
     "base_uri": "https://localhost:8080/"
    },
    "id": "d2EH-Tah4b9z",
    "outputId": "dd3410b9-fb29-4d7a-a1ae-7e8e84155ff3"
   },
   "outputs": [],
   "source": [
    "trainer.train()"
   ]
  },
  {
   "cell_type": "markdown",
   "metadata": {
    "id": "3bp3qEK6_z8f"
   },
   "source": [
    "### Save the Fine-Tuned Model"
   ]
  },
  {
   "cell_type": "code",
   "execution_count": null,
   "metadata": {
    "colab": {
     "base_uri": "https://localhost:8080/"
    },
    "id": "QovpHUIy_xGi",
    "outputId": "c515cf33-0079-47e0-8b38-ea11b74a3a14"
   },
   "outputs": [],
   "source": [
    "new_model_name = \"tinyllama_finetuned_qlora\"\n",
    "\n",
    "trainer.model.save_pretrained(new_model_name)\n",
    "tokenizer.save_pretrained(new_model_name)"
   ]
  },
  {
   "cell_type": "code",
   "execution_count": null,
   "metadata": {
    "id": "2j--Caq7-aRH"
   },
   "outputs": [],
   "source": [
    "pipe = pipeline(task=\"text-generation\", model=new_model_name, tokenizer=new_model_name, max_length=80)"
   ]
  },
  {
   "cell_type": "markdown",
   "metadata": {
    "id": "FanbLQZvB69y"
   },
   "source": [
    "### Inference on the test prompt"
   ]
  },
  {
   "cell_type": "code",
   "execution_count": null,
   "metadata": {
    "colab": {
     "base_uri": "https://localhost:8080/"
    },
    "id": "PB_QmpWUA7Ur",
    "outputId": "851dd414-0433-4abf-f81a-63b0660e3041"
   },
   "outputs": [],
   "source": [
    "ques_type = \"True/False\"\n",
    "topic = \"Physics\"\n",
    "\n",
    "prompt = f\"Generate a {ques_type} on {topic}\"\n",
    "result = pipe(prompt)\n",
    "\n",
    "# print(result)\n",
    "print(result[0]['generated_text'])"
   ]
  },
  {
   "cell_type": "code",
   "execution_count": null,
   "metadata": {
    "colab": {
     "base_uri": "https://localhost:8080/"
    },
    "id": "FffXv3fXDIS9",
    "outputId": "87b1f326-97d1-41e0-82ee-bedbc02bbd2a"
   },
   "outputs": [],
   "source": [
    "trainer.model"
   ]
  },
  {
   "cell_type": "code",
   "execution_count": null,
   "metadata": {
    "id": "_YWmOqve2Lgm"
   },
   "outputs": [],
   "source": []
  }
 ],
 "metadata": {
  "accelerator": "GPU",
  "colab": {
   "gpuType": "T4",
   "provenance": []
  },
  "kernelspec": {
   "display_name": "PrashnPatra",
   "language": "python",
   "name": "python3"
  },
  "language_info": {
   "codemirror_mode": {
    "name": "ipython",
    "version": 3
   },
   "file_extension": ".py",
   "mimetype": "text/x-python",
   "name": "python",
   "nbconvert_exporter": "python",
   "pygments_lexer": "ipython3",
   "version": "3.10.7"
  }
 },
 "nbformat": 4,
 "nbformat_minor": 0
}
